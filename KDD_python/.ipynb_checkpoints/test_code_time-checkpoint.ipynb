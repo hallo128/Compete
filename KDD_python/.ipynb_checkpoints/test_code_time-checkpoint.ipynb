{
 "cells": [
  {
   "cell_type": "code",
   "execution_count": 1,
   "metadata": {
    "collapsed": true
   },
   "outputs": [],
   "source": [
    "# -*- coding: utf-8 -*-\n",
    "#!/usr/bin/env python\n",
    "\n",
    "\"\"\"\n",
    "Objective:\n",
    "Calculate the average travel time for each 20-minute time window.\n",
    "目标：\n",
    "计算每20分钟的时间长度的车辆的平均运行时间\n",
    "\"\"\"\n",
    "\n",
    "# import necessary modules\n",
    "import math\n",
    "from datetime import datetime,timedelta\n",
    "\n",
    "file_suffix = '.csv'\n",
    "path = '/Users/apple/code_tool/python/KDD_python/'"
   ]
  },
  {
   "cell_type": "code",
   "execution_count": 2,
   "metadata": {
    "collapsed": true
   },
   "outputs": [],
   "source": [
    "in_file = 'trajectories(table 5)_training'"
   ]
  },
  {
   "cell_type": "code",
   "execution_count": 3,
   "metadata": {
    "collapsed": false
   },
   "outputs": [
    {
     "name": "stdout",
     "output_type": "stream",
     "text": [
      "\"B\",\"3\",\"1065642\",\"2016-07-19 00:14:24\",\"105#2016-07-19 00:14:24#9.56;100#2016-07-19 00:14:34#6.75;111#2016-07-19 00:14:41#13.00;103#2016-07-19 00:14:54#7.47;122#2016-07-19 00:15:02#32.85\",\"70.85\"\n",
      "\n"
     ]
    }
   ],
   "source": [
    "out_suffix = '_20min_avg_travel_time'\n",
    "in_file_name = in_file + file_suffix\n",
    "out_file_name = in_file.split('_')[1] + out_suffix + file_suffix\n",
    "    #   training_20min_avg_travel_time.csv  或testing_20min_avg_travel_time.csv\n",
    "\n",
    "    # Step 1: Load trajectories\n",
    "fr = open(path + in_file_name, 'r')\n",
    "fr.readline()  # skip the header(跳过首行)\n",
    "traj_data = fr.readlines()     # 将文本数据都保存到traj_data\n",
    "fr.close()                      #关闭文件\n",
    "print(traj_data[0])"
   ]
  },
  {
   "cell_type": "markdown",
   "metadata": {},
   "source": [
    "# Step 2: Create a dictionary to store travel time for each route per time window"
   ]
  },
  {
   "cell_type": "code",
   "execution_count": 4,
   "metadata": {
    "collapsed": true
   },
   "outputs": [],
   "source": [
    "travel_times = {}"
   ]
  },
  {
   "cell_type": "code",
   "execution_count": 5,
   "metadata": {
    "collapsed": false
   },
   "outputs": [
    {
     "data": {
      "text/plain": [
       "109244"
      ]
     },
     "execution_count": 5,
     "metadata": {},
     "output_type": "execute_result"
    }
   ],
   "source": [
    "len(traj_data)"
   ]
  },
  {
   "cell_type": "code",
   "execution_count": 9,
   "metadata": {
    "collapsed": false
   },
   "outputs": [],
   "source": [
    "i=0"
   ]
  },
  {
   "cell_type": "code",
   "execution_count": 15,
   "metadata": {
    "collapsed": false
   },
   "outputs": [],
   "source": [
    "each_traj = traj_data[i].replace('\"', '').split(',')\n",
    "intersection_id = each_traj[0]\n",
    "tollgate_id = each_traj[1]\n",
    "\n",
    "route_id = intersection_id + '-' + tollgate_id"
   ]
  },
  {
   "cell_type": "code",
   "execution_count": 17,
   "metadata": {
    "collapsed": false
   },
   "outputs": [],
   "source": [
    "if route_id not in travel_times.keys():\n",
    "            travel_times[route_id] = {}"
   ]
  },
  {
   "cell_type": "code",
   "execution_count": 21,
   "metadata": {
    "collapsed": false
   },
   "outputs": [
    {
     "data": {
      "text/plain": [
       "'2016-07-19 00:14:24'"
      ]
     },
     "execution_count": 21,
     "metadata": {},
     "output_type": "execute_result"
    }
   ],
   "source": [
    "trace_start_time = each_traj[3]\n",
    "trace_start_time"
   ]
  },
  {
   "cell_type": "code",
   "execution_count": 22,
   "metadata": {
    "collapsed": false
   },
   "outputs": [
    {
     "data": {
      "text/plain": [
       "datetime.datetime(2016, 7, 19, 0, 14, 24)"
      ]
     },
     "execution_count": 22,
     "metadata": {},
     "output_type": "execute_result"
    }
   ],
   "source": [
    "\n",
    "trace_start_time = datetime.strptime(trace_start_time, \"%Y-%m-%d %H:%M:%S\")\n",
    "trace_start_time\n"
   ]
  },
  {
   "cell_type": "code",
   "execution_count": 24,
   "metadata": {
    "collapsed": false
   },
   "outputs": [
    {
     "data": {
      "text/plain": [
       "0"
      ]
     },
     "execution_count": 24,
     "metadata": {},
     "output_type": "execute_result"
    }
   ],
   "source": [
    "time_window_minute = math.floor(trace_start_time.minute / 20) * 20\n",
    "math.floor(trace_start_time.minute / 20) * 20"
   ]
  },
  {
   "cell_type": "code",
   "execution_count": 25,
   "metadata": {
    "collapsed": false
   },
   "outputs": [
    {
     "data": {
      "text/plain": [
       "datetime.datetime(2016, 7, 19, 0, 0)"
      ]
     },
     "execution_count": 25,
     "metadata": {},
     "output_type": "execute_result"
    }
   ],
   "source": [
    "start_time_window = datetime(trace_start_time.year, trace_start_time.month, trace_start_time.day,\n",
    "trace_start_time.hour, time_window_minute, 0)\n",
    "start_time_window"
   ]
  },
  {
   "cell_type": "code",
   "execution_count": 33,
   "metadata": {
    "collapsed": false
   },
   "outputs": [
    {
     "data": {
      "text/plain": [
       "70.85"
      ]
     },
     "execution_count": 33,
     "metadata": {},
     "output_type": "execute_result"
    }
   ],
   "source": [
    "tt = float(each_traj[-1]) # travel time\n",
    "tt"
   ]
  },
  {
   "cell_type": "code",
   "execution_count": 34,
   "metadata": {
    "collapsed": false
   },
   "outputs": [],
   "source": [
    "if start_time_window not in travel_times[route_id].keys():\n",
    "    travel_times[route_id][start_time_window] = [tt]\n",
    "else:\n",
    "    travel_times[route_id][start_time_window].append(tt)\n"
   ]
  },
  {
   "cell_type": "code",
   "execution_count": 35,
   "metadata": {
    "collapsed": false
   },
   "outputs": [
    {
     "data": {
      "text/plain": [
       "{'B-3': {datetime.datetime(2016, 7, 19, 0, 0): [70.85]}}"
      ]
     },
     "execution_count": 35,
     "metadata": {},
     "output_type": "execute_result"
    }
   ],
   "source": [
    "travel_times"
   ]
  },
  {
   "cell_type": "code",
   "execution_count": null,
   "metadata": {
    "collapsed": true
   },
   "outputs": [],
   "source": [
    "each_traj = traj_data[i].replace('\"', '').split(',')\n",
    "intersection_id = each_traj[0]\n",
    "tollgate_id = each_traj[1]\n",
    "\n",
    "route_id = intersection_id + '-' + tollgate_id\n",
    "if route_id not in travel_times.keys():\n",
    "            travel_times[route_id] = {}\n",
    "\n",
    "trace_start_time = each_traj[3]\n",
    "trace_start_time = datetime.strptime(trace_start_time, \"%Y-%m-%d %H:%M:%S\")\n",
    "time_window_minute = math.floor(trace_start_time.minute / 20) * 20\n",
    "start_time_window = datetime(trace_start_time.year, trace_start_time.month, trace_start_time.day,\n",
    "trace_start_time.hour, time_window_minute, 0)\n",
    "tt = float(each_traj[-1]) # travel time\n",
    "\n",
    "if start_time_window not in travel_times[route_id].keys():\n",
    "    travel_times[route_id][start_time_window] = [tt]\n",
    "else:\n",
    "    travel_times[route_id][start_time_window].append(tt)"
   ]
  },
  {
   "cell_type": "markdown",
   "metadata": {},
   "source": [
    "# Step 3: Calculate average travel time for each route per time window"
   ]
  },
  {
   "cell_type": "code",
   "execution_count": 37,
   "metadata": {
    "collapsed": false
   },
   "outputs": [
    {
     "data": {
      "text/plain": [
       "dict_keys(['B-3'])"
      ]
     },
     "execution_count": 37,
     "metadata": {},
     "output_type": "execute_result"
    }
   ],
   "source": [
    "travel_times.keys()"
   ]
  },
  {
   "cell_type": "code",
   "execution_count": 36,
   "metadata": {
    "collapsed": false
   },
   "outputs": [
    {
     "data": {
      "text/plain": [
       "'\"intersection_id\",\"tollgate_id\",\"time_window\",\"avg_travel_time\"\\n'"
      ]
     },
     "execution_count": 36,
     "metadata": {},
     "output_type": "execute_result"
    }
   ],
   "source": [
    "','.join(['\"intersection_id\"', '\"tollgate_id\"', '\"time_window\"', '\"avg_travel_time\"']) + '\\n'"
   ]
  },
  {
   "cell_type": "code",
   "execution_count": 39,
   "metadata": {
    "collapsed": false
   },
   "outputs": [
    {
     "data": {
      "text/plain": [
       "[datetime.datetime(2016, 7, 19, 0, 0)]"
      ]
     },
     "execution_count": 39,
     "metadata": {},
     "output_type": "execute_result"
    }
   ],
   "source": [
    "list(travel_times['B-3'].keys())"
   ]
  },
  {
   "cell_type": "code",
   "execution_count": 45,
   "metadata": {
    "collapsed": false
   },
   "outputs": [],
   "source": [
    "time_window_start=list(travel_times['B-3'].keys())[0]\n",
    "route='B-3'"
   ]
  },
  {
   "cell_type": "code",
   "execution_count": 46,
   "metadata": {
    "collapsed": false
   },
   "outputs": [],
   "source": [
    "time_window_end = time_window_start + timedelta(minutes=20)\n",
    "tt_set = travel_times[route][time_window_start]\n",
    "avg_tt = round(sum(tt_set) / float(len(tt_set)), 2)\n",
    "out_line = ','.join(['\"' + route.split('-')[0] + '\"', '\"' + route.split('-')[1] + '\"',\n",
    "                    '\"[' + str(time_window_start) + ',' + str(time_window_end) + ')\"',\n",
    "                    '\"' + str(avg_tt) + '\"']) + '\\n'"
   ]
  },
  {
   "cell_type": "code",
   "execution_count": 47,
   "metadata": {
    "collapsed": false
   },
   "outputs": [
    {
     "data": {
      "text/plain": [
       "'\"B\",\"3\",\"[2016-07-19 00:00:00,2016-07-19 00:20:00)\",\"70.85\"\\n'"
      ]
     },
     "execution_count": 47,
     "metadata": {},
     "output_type": "execute_result"
    }
   ],
   "source": [
    "out_line"
   ]
  },
  {
   "cell_type": "code",
   "execution_count": null,
   "metadata": {
    "collapsed": true
   },
   "outputs": [],
   "source": [
    "\n",
    "    fw = open(out_file_name, 'w')\n",
    "    fw.writelines(','.join(['\"intersection_id\"', '\"tollgate_id\"', '\"time_window\"', '\"avg_travel_time\"']) + '\\n')\n",
    "    for route in travel_times.keys():\n",
    "        route_time_windows = list(travel_times[route].keys())\n",
    "        route_time_windows.sort()\n",
    "        for time_window_start in route_time_windows:\n",
    "            time_window_end = time_window_start + timedelta(minutes=20)\n",
    "            tt_set = travel_times[route][time_window_start]\n",
    "            avg_tt = round(sum(tt_set) / float(len(tt_set)), 2)\n",
    "            out_line = ','.join(['\"' + route.split('-')[0] + '\"', '\"' + route.split('-')[1] + '\"',\n",
    "                                 '\"[' + str(time_window_start) + ',' + str(time_window_end) + ')\"',\n",
    "                                 '\"' + str(avg_tt) + '\"']) + '\\n'\n",
    "            fw.writelines(out_line)\n",
    "    fw.close()"
   ]
  }
 ],
 "metadata": {
  "kernelspec": {
   "display_name": "Python 3",
   "language": "python",
   "name": "python3"
  },
  "language_info": {
   "codemirror_mode": {
    "name": "ipython",
    "version": 3
   },
   "file_extension": ".py",
   "mimetype": "text/x-python",
   "name": "python",
   "nbconvert_exporter": "python",
   "pygments_lexer": "ipython3",
   "version": "3.6.0"
  }
 },
 "nbformat": 4,
 "nbformat_minor": 2
}
