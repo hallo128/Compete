{
 "cells": [
  {
   "cell_type": "code",
   "execution_count": 1,
   "metadata": {
    "collapsed": false
   },
   "outputs": [
    {
     "name": "stdout",
     "output_type": "stream",
     "text": [
      "\"2016-09-19 23:09:25\",\"2\",\"0\",\"1\",\"0\",\"\"\n",
      "\n"
     ]
    }
   ],
   "source": [
    "in_file = 'volume(table 6)_training'\n",
    "import math\n",
    "from datetime import datetime,timedelta\n",
    "\n",
    "file_suffix = '.csv'\n",
    "path = '/Users/apple/code_tool/python/KDD_python/'          # set the data directory（改文件路径）\n",
    "out_suffix = '_20min_avg_volume'\n",
    "in_file_name = in_file + file_suffix\n",
    "out_file_name = in_file.split('_')[1] + out_suffix + file_suffix\n",
    "\n",
    "\n",
    "fr = open(path + in_file_name, 'r')\n",
    "fr.readline()  # skip the header\n",
    "vol_data = fr.readlines()\n",
    "fr.close()\n",
    "print(vol_data[0])"
   ]
  },
  {
   "cell_type": "code",
   "execution_count": 3,
   "metadata": {
    "collapsed": false
   },
   "outputs": [],
   "source": [
    "volumes = {} \n",
    "i=0\n",
    "each_pass = vol_data[i].replace('\"', '').split(',')\n",
    "tollgate_id = each_pass[1]\n",
    "direction = each_pass[2]\n",
    "\n",
    "pass_time = each_pass[0]\n",
    "pass_time = datetime.strptime(pass_time, \"%Y-%m-%d %H:%M:%S\")\n",
    "time_window_minute = int(math.floor(pass_time.minute / 20) * 20)\n",
    "        #print pass_time\n",
    "start_time_window = datetime(pass_time.year, pass_time.month, pass_time.day,\n",
    "                                     pass_time.hour, time_window_minute, 0)"
   ]
  },
  {
   "cell_type": "code",
   "execution_count": 4,
   "metadata": {
    "collapsed": false
   },
   "outputs": [
    {
     "data": {
      "text/plain": [
       "datetime.datetime(2016, 9, 19, 23, 0)"
      ]
     },
     "execution_count": 4,
     "metadata": {},
     "output_type": "execute_result"
    }
   ],
   "source": [
    "start_time_window"
   ]
  },
  {
   "cell_type": "code",
   "execution_count": 9,
   "metadata": {
    "collapsed": true
   },
   "outputs": [],
   "source": [
    "if start_time_window not in volumes:\n",
    "    volumes[start_time_window] = {}\n",
    "if tollgate_id not in volumes[start_time_window]:\n",
    "    volumes[start_time_window][tollgate_id] = {}\n",
    "if direction not in volumes[start_time_window][tollgate_id]:\n",
    "    volumes[start_time_window][tollgate_id][direction] = 1\n",
    "else:\n",
    "    volumes[start_time_window][tollgate_id][direction] += 1"
   ]
  },
  {
   "cell_type": "code",
   "execution_count": 10,
   "metadata": {
    "collapsed": false
   },
   "outputs": [
    {
     "data": {
      "text/plain": [
       "{datetime.datetime(2016, 9, 19, 23, 0): {'2': {'0': 3}}}"
      ]
     },
     "execution_count": 10,
     "metadata": {},
     "output_type": "execute_result"
    }
   ],
   "source": [
    "volumes"
   ]
  },
  {
   "cell_type": "code",
   "execution_count": null,
   "metadata": {
    "collapsed": true
   },
   "outputs": [],
   "source": []
  },
  {
   "cell_type": "code",
   "execution_count": null,
   "metadata": {
    "collapsed": true
   },
   "outputs": [],
   "source": []
  },
  {
   "cell_type": "code",
   "execution_count": null,
   "metadata": {
    "collapsed": true
   },
   "outputs": [],
   "source": []
  }
 ],
 "metadata": {
  "kernelspec": {
   "display_name": "Python 3",
   "language": "python",
   "name": "python3"
  },
  "language_info": {
   "codemirror_mode": {
    "name": "ipython",
    "version": 3
   },
   "file_extension": ".py",
   "mimetype": "text/x-python",
   "name": "python",
   "nbconvert_exporter": "python",
   "pygments_lexer": "ipython3",
   "version": "3.6.0"
  }
 },
 "nbformat": 4,
 "nbformat_minor": 2
}
